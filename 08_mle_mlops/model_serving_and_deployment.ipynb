{
  "nbformat": 4,
  "nbformat_minor": 0,
  "metadata": {
    "colab": {
      "provenance": [],
      "collapsed_sections": [
        "wjnD7sDUAFyo",
        "I0H8ZFkQAXmy",
        "7aKzyoacBI2N",
        "-57IZ8LzBwrT"
      ]
    },
    "kernelspec": {
      "name": "python3",
      "display_name": "Python 3"
    },
    "language_info": {
      "name": "python"
    }
  },
  "cells": [
    {
      "cell_type": "markdown",
      "source": [
        "# 📦 Model Serving & Deployment (MLOps)\n",
        "\n",
        "\n",
        "En este notebook quiero aprender cómo hacer que un modelo de machine learning, entrenado previamente, esté disponible para que otras personas o aplicaciones lo puedan usar.\n",
        "\n",
        "Para ello vamos a:\n",
        "\n",
        "✅ Servir un modelo como una **API REST** usando **FastAPI**  \n",
        "✅ Cargar un modelo entrenado y utilizarlo para hacer predicciones desde la API  \n",
        "✅ Probar el endpoint de forma sencilla desde Python  \n",
        "✅ Entender conceptos clave sobre el **deployment de modelos en producción**\n",
        "\n",
        "\n",
        "\n"
      ],
      "metadata": {
        "id": "i7qLUw9F8xhc"
      }
    },
    {
      "cell_type": "markdown",
      "source": [
        "\n",
        "## 🧠 ¿Qué significa \"servir un modelo\"?\n",
        "\n",
        "Cuando entreno un modelo en un entorno como Jupyter o Google Colab, solo yo puedo usarlo desde ahí. Si alguien más quiere utilizarlo (por ejemplo, desde una app móvil o una página web), necesita que ese modelo esté disponible **desde internet**.\n",
        "\n",
        "Para eso lo que hacemos es **servir el modelo como una API web**.  \n",
        "Esto quiere decir que:\n",
        "\n",
        "- Exponemos una función (por ejemplo, `predecir_diabetes`) mediante una URL\n",
        "- Cualquier sistema puede enviar datos a esa URL\n",
        "- El modelo responderá con la predicción\n",
        "\n",
        "Esto es la base de muchos productos que usan machine learning.\n",
        "\n"
      ],
      "metadata": {
        "id": "bK1K7IO68_yT"
      }
    },
    {
      "cell_type": "markdown",
      "source": [
        "\n",
        "## 🔧 Herramientas que vamos a usar\n",
        "\n",
        "| Herramienta     | ¿Para qué sirve?                          |\n",
        "|------------------|--------------------------------------------|\n",
        "| **FastAPI**      | Para crear APIs web modernas y fáciles en Python |\n",
        "| **Uvicorn**      | Servidor web que ejecuta FastAPI           |\n",
        "| **Pickle**       | Para guardar y cargar modelos entrenados   |\n",
        "| **requests**     | Para hacer llamadas HTTP desde Python y probar la API\n",
        "\n",
        "\n"
      ],
      "metadata": {
        "id": "_cYsaqvJ9Erw"
      }
    },
    {
      "cell_type": "markdown",
      "source": [
        "\n",
        "## 📈 Caso práctico: Predicción de diabetes\n",
        "\n",
        "Vamos a trabajar con un modelo que predice si una persona tiene diabetes, usando el dataset clásico \"Pima Indians Diabetes\".\n",
        "\n",
        "El modelo será una regresión logística entrenada con `scikit-learn`, y lo serviremos como una API RESTful usando `FastAPI`."
      ],
      "metadata": {
        "id": "AENrULsY9IKL"
      }
    },
    {
      "cell_type": "markdown",
      "source": [
        "### 1. Entrenar y guardar el modelo"
      ],
      "metadata": {
        "id": "SGVJc2lh9PvM"
      }
    },
    {
      "cell_type": "code",
      "source": [
        "import pandas as pd\n",
        "from sklearn.linear_model import LogisticRegression\n",
        "from sklearn.model_selection import train_test_split\n",
        "import pickle\n",
        "\n",
        "# 1. Cargamos el dataset\n",
        "df = pd.read_csv(\"https://raw.githubusercontent.com/selva86/datasets/master/PimaIndiansDiabetes.csv\")\n",
        "\n",
        "# 2. Separar en features (X) y target (y)\n",
        "X = df.drop(\"diabetes\", axis=1)\n",
        "y = df[\"diabetes\"]\n",
        "\n",
        "# 3. Dividir en entrenamiento y prueba\n",
        "X_train, X_test, y_train, y_test = train_test_split(X, y, test_size=0.2, random_state=42)\n",
        "\n",
        "# 4. Entrenar el modelo\n",
        "model = LogisticRegression(max_iter=1000)\n",
        "model.fit(X_train, y_train)\n",
        "\n",
        "# 5. Guardar modelo entrenado como archivo .pkl\n",
        "with open(\"diabetes_model.pkl\", \"wb\") as f:\n",
        "    pickle.dump(model, f)\n",
        "\n",
        "print(\"Modelo guardado correctamente como 'diabetes_model.pkl'\")"
      ],
      "metadata": {
        "id": "pXdXk2dZ8yVh"
      },
      "execution_count": null,
      "outputs": []
    },
    {
      "cell_type": "markdown",
      "source": [
        "### 2. Crear una API para servir el modelo\n",
        "\n",
        "Ahora vamos a usar **FastAPI** para crear un servidor que cargue el modelo y escuche peticiones. Cuando alguien mande datos, el modelo responderá con una predicción.\n",
        "\n",
        "La API tendrá:\n",
        "\n",
        "- Un endpoint básico (`/`) para verificar que todo funciona  \n",
        "- Un endpoint de predicción (`/predict/`) que recibe los datos y devuelve el resultado del modelo\n"
      ],
      "metadata": {
        "id": "5LVlNLnF9VYp"
      }
    },
    {
      "cell_type": "code",
      "source": [
        "# main.py\n",
        "\n",
        "from fastapi import FastAPI\n",
        "from pydantic import BaseModel\n",
        "import numpy as np\n",
        "import pickle\n",
        "\n",
        "# 1. Cargar modelo entrenado desde el archivo .pkl\n",
        "with open(\"diabetes_model.pkl\", \"rb\") as f:\n",
        "    model = pickle.load(f)\n",
        "\n",
        "# 2. Crear app con FastAPI\n",
        "app = FastAPI(title=\"API para predecir diabetes\")\n",
        "\n",
        "# 3. Crear clase para validar la entrada del usuario\n",
        "class PatientData(BaseModel):\n",
        "    pregnancies: int\n",
        "    glucose: float\n",
        "    bloodpressure: float\n",
        "    skinthickness: float\n",
        "    insulin: float\n",
        "    bmi: float\n",
        "    diabetespedigreefunction: float\n",
        "    age: int\n",
        "\n",
        "# 4. Endpoint base\n",
        "@app.get(\"/\")\n",
        "def root():\n",
        "    return {\"message\": \"API funcionando correctamente\"}\n",
        "\n",
        "# 5. Endpoint de predicción\n",
        "@app.post(\"/predict/\")\n",
        "def predict(data: PatientData):\n",
        "    input_data = np.array([[\n",
        "        data.pregnancies, data.glucose, data.bloodpressure,\n",
        "        data.skinthickness, data.insulin, data.bmi,\n",
        "        data.diabetespedigreefunction, data.age\n",
        "    ]])\n",
        "\n",
        "    prediction = model.predict(input_data)[0]\n",
        "    resultado = \"Diabético\" if prediction == 1 else \"No diabético\"\n",
        "\n",
        "    return {\"resultado\": resultado}"
      ],
      "metadata": {
        "id": "iqgk6vn39eTL"
      },
      "execution_count": null,
      "outputs": []
    },
    {
      "cell_type": "markdown",
      "source": [
        "### 3: Probar la API\n",
        "\n",
        "Para verificar que la API funciona correctamente, podemos escribir un script en Python que mande datos como si fuéramos una app externa.\n",
        "\n",
        "Esto es útil para comprobar que el modelo está sirviendo bien las predicciones."
      ],
      "metadata": {
        "id": "jbbzq77T9lz_"
      }
    },
    {
      "cell_type": "code",
      "source": [
        "# test_request.py\n",
        "\n",
        "import requests\n",
        "\n",
        "# Dirección local de la API\n",
        "url = \"http://127.0.0.1:8000/predict/\"\n",
        "\n",
        "# Datos de prueba (como si vinieran de una app o frontend)\n",
        "patient = {\n",
        "    \"pregnancies\": 3,\n",
        "    \"glucose\": 140,\n",
        "    \"bloodpressure\": 75,\n",
        "    \"skinthickness\": 23,\n",
        "    \"insulin\": 100,\n",
        "    \"bmi\": 30.5,\n",
        "    \"diabetespedigreefunction\": 0.45,\n",
        "    \"age\": 28\n",
        "}\n",
        "\n",
        "# Enviar petición POST\n",
        "response = requests.post(url, json=patient)\n",
        "print(response.json())"
      ],
      "metadata": {
        "id": "hi54dJWr9oPB"
      },
      "execution_count": null,
      "outputs": []
    },
    {
      "cell_type": "markdown",
      "source": [
        "### 4: Ejecutar la API localmente\n",
        "\n",
        "Para lanzar el servidor de FastAPI, usamos el siguiente comando:\n",
        "\n",
        "```bash\n",
        "uvicorn main:app --reload\n",
        "```\n",
        "\n",
        "Esto inicia la API en modo \"desarrollo\" y podrás ver los endpoints en:\n",
        "\n",
        "http://127.0.0.1:8000\n"
      ],
      "metadata": {
        "id": "I8g7PCF59x_0"
      }
    },
    {
      "cell_type": "markdown",
      "source": [
        "### 5: Dockerizar la API (opcional)\n",
        "\n",
        "Para poder desplegar nuestra app en cualquier sitio (nube, servidor, etc.), es buena práctica crear una imagen Docker. Así nos aseguramos de que todo funcione igual sin importar el entorno.\n",
        "\n",
        "**Ejemplo de Dockerfile:**\n",
        "\n",
        "```dockerfile\n",
        "FROM python:3.9\n",
        "\n",
        "WORKDIR /app\n",
        "\n",
        "COPY requirements.txt .\n",
        "RUN pip install -r requirements.txt\n",
        "\n",
        "COPY . .\n",
        "\n",
        "CMD [\"uvicorn\", \"main:app\", \"--host\", \"0.0.0.0\", \"--port\", \"80\"]\n"
      ],
      "metadata": {
        "id": "NBb1Az0H-w_P"
      }
    },
    {
      "cell_type": "markdown",
      "source": [
        "\n",
        "**¿Y cómo se despliega esto?**\n",
        "\n",
        "Una vez que tienes la API funcionando y (opcionalmente) dockerizada, puedes subirla a:\n",
        "\n",
        "- **Render.com** → Muy sencillo para apps FastAPI\n",
        "- **Hugging Face Spaces** → Ideal si usas `Gradio` o `Streamlit`\n",
        "- **AWS/GCP/Azure** → Soluciones empresariales escalables\n",
        "- **Railway.app** o **Fly.io** → Buenas opciones para prototipos rápidos\n"
      ],
      "metadata": {
        "id": "EGHtiDqO-lHi"
      }
    },
    {
      "cell_type": "markdown",
      "source": [
        "## Conclusiones\n",
        "\n",
        "- Ya sé cómo entrenar un modelo, guardarlo y luego servirlo como API con FastAPI\n",
        "- Este es un paso esencial para convertir un experimento de ML en un **producto real**\n",
        "- Aprendí a validar inputs, cargar modelos guardados, y trabajar con predicciones desde una app web\n",
        "\n",
        "### ¿Siguientes pasos?\n",
        "\n",
        "- Añadir control de errores\n",
        "- Conectarlo a una base de datos\n",
        "- Usar `Gradio` o `Streamlit` para crear una interfaz visual\n",
        "- Desplegarlo en la nube\n",
        "\n"
      ],
      "metadata": {
        "id": "8e_7hRZu_Ja9"
      }
    },
    {
      "cell_type": "markdown",
      "source": [
        "## (ANEXO) Próximos pasos"
      ],
      "metadata": {
        "id": "BZ1Dwqe2__ua"
      }
    },
    {
      "cell_type": "markdown",
      "source": [
        "### Control de errores\n",
        "\n",
        "Cuando hacemos una API, no podemos confiar en que los usuarios manden datos perfectos. Imagina que alguien manda edad=\"hola\"... se rompe todo. Así que hay que prevenir errores.\n",
        "\n",
        "Con FastAPI y pydantic, ya tenemos validación básica, pero podemos mejorarlo.\n"
      ],
      "metadata": {
        "id": "wjnD7sDUAFyo"
      }
    },
    {
      "cell_type": "markdown",
      "source": [
        "\n",
        "**Ejemplo: Controlar si falta un campo o si el valor no es numérico**"
      ],
      "metadata": {
        "id": "-DySRGdqA8kz"
      }
    },
    {
      "cell_type": "code",
      "source": [
        "from fastapi import HTTPException\n",
        "\n",
        "@app.post(\"/predict/\")\n",
        "def predict(data: PatientData):\n",
        "    try:\n",
        "        input_data = np.array([[ ... ]])  # igual que antes\n",
        "        prediction = model.predict(input_data)[0]\n",
        "        resultado = \"Diabético\" if prediction == 1 else \"No diabético\"\n",
        "        return {\"resultado\": resultado}\n",
        "    except Exception as e:\n",
        "        raise HTTPException(status_code=400, detail=f\"Error en la predicción: {str(e)}\")"
      ],
      "metadata": {
        "id": "MC0mQJmM_OUb"
      },
      "execution_count": null,
      "outputs": []
    },
    {
      "cell_type": "markdown",
      "source": [
        "### CI/CD: Integración y Despliegue automático\n",
        "\n",
        "CI/CD significa:\n",
        "\n",
        "- CI (Integración Continua): testear tu código automáticamente cuando haces cambios.\n",
        "- CD (Despliegue Continuo): subir automáticamente tu app a producción cuando actualizas el repositorio (por ejemplo, en GitHub).\n",
        "\n"
      ],
      "metadata": {
        "id": "I0H8ZFkQAXmy"
      }
    },
    {
      "cell_type": "markdown",
      "source": [
        "**Ejemplo: CI/CD con GitHub Actions**"
      ],
      "metadata": {
        "id": "wopHTXbYBBAJ"
      }
    },
    {
      "cell_type": "markdown",
      "source": [
        "1. Crea un archivo en .github/workflows/deploy.yml\n",
        "\n",
        "```\n",
        "name: Deploy API\n",
        "\n",
        "on:\n",
        "  push:\n",
        "    branches:\n",
        "      - main\n",
        "\n",
        "jobs:\n",
        "  build:\n",
        "    runs-on: ubuntu-latest\n",
        "    steps:\n",
        "      - uses: actions/checkout@v3\n",
        "      - name: Set up Python\n",
        "        uses: actions/setup-python@v4\n",
        "        with:\n",
        "          python-version: '3.9'\n",
        "      - name: Install dependencies\n",
        "        run: pip install -r requirements.txt\n",
        "      - name: Run tests\n",
        "        run: python -m unittest discover tests\n",
        "```"
      ],
      "metadata": {
        "id": "vDYQpn1sBDa7"
      }
    },
    {
      "cell_type": "markdown",
      "source": [
        "\n",
        "\n",
        "2. Esto testea tu código cada vez que haces git push al repositorio.\n",
        "\n",
        "  Si usas Render.com o Railway.app, puedes conectar tu repo de GitHub y el despliegue se hace automáticamente cada vez que subes código nuevo."
      ],
      "metadata": {
        "id": "O0gYBh4WBFoH"
      }
    },
    {
      "cell_type": "markdown",
      "source": [
        "### Conectar la API a una base de datos\n",
        "\n"
      ],
      "metadata": {
        "id": "7aKzyoacBI2N"
      }
    },
    {
      "cell_type": "markdown",
      "source": [
        "Supongamos que quiero guardar cada predicción que hago: quién la hizo, cuándo, y qué datos mandó. Para eso necesito una base de datos."
      ],
      "metadata": {
        "id": "kEysLpC7BNCQ"
      }
    },
    {
      "cell_type": "markdown",
      "source": [
        "**Ejemplo sencillo con SQLite (base de datos ligera en archivo local)**"
      ],
      "metadata": {
        "id": "J6ugOzzBBQNt"
      }
    },
    {
      "cell_type": "code",
      "source": [
        "import sqlite3\n",
        "\n",
        "# Crear base de datos (solo la primera vez)\n",
        "conn = sqlite3.connect(\"predicciones.db\")\n",
        "cursor = conn.cursor()\n",
        "\n",
        "# Crear tabla\n",
        "cursor.execute(\"\"\"\n",
        "CREATE TABLE IF NOT EXISTS predicciones (\n",
        "    id INTEGER PRIMARY KEY AUTOINCREMENT,\n",
        "    edad INTEGER,\n",
        "    resultado TEXT\n",
        ")\n",
        "\"\"\")\n",
        "conn.commit()\n",
        "conn.close()"
      ],
      "metadata": {
        "id": "mPfx65a9BMqo"
      },
      "execution_count": null,
      "outputs": []
    },
    {
      "cell_type": "markdown",
      "source": [
        "Y luego dentro del endpoint:"
      ],
      "metadata": {
        "id": "Fq5d649CBZ8F"
      }
    },
    {
      "cell_type": "code",
      "source": [
        "# Guardar predicción\n",
        "conn = sqlite3.connect(\"predicciones.db\")\n",
        "cursor = conn.cursor()\n",
        "cursor.execute(\"INSERT INTO predicciones (edad, resultado) VALUES (?, ?)\", (data.age, resultado))\n",
        "conn.commit()\n",
        "conn.close()"
      ],
      "metadata": {
        "id": "OSxpY1cxBbcw"
      },
      "execution_count": null,
      "outputs": []
    },
    {
      "cell_type": "markdown",
      "source": [
        "> Más adelante puedes usar PostgreSQL si lo subes a la nube."
      ],
      "metadata": {
        "id": "xRkkSnYCBu6e"
      }
    },
    {
      "cell_type": "markdown",
      "source": [
        "### Interfaz visual con Streamlit o Gradio\n",
        "\n",
        "Sirve para que cualquier persona (sin saber código) pueda probar tu modelo desde un navegador."
      ],
      "metadata": {
        "id": "-57IZ8LzBwrT"
      }
    },
    {
      "cell_type": "code",
      "source": [
        "import gradio as gr\n",
        "import pickle\n",
        "import numpy as np\n",
        "\n",
        "with open(\"diabetes_model.pkl\", \"rb\") as f:\n",
        "    model = pickle.load(f)\n",
        "\n",
        "def predecir(preg, gluc, presion, piel, insulina, bmi, pedigree, edad):\n",
        "    datos = np.array([[preg, gluc, presion, piel, insulina, bmi, pedigree, edad]])\n",
        "    pred = model.predict(datos)[0]\n",
        "    return \"Diabético\" if pred == 1 else \"No diabético\"\n",
        "\n",
        "demo = gr.Interface(\n",
        "    fn=predecir,\n",
        "    inputs=[\n",
        "        gr.Number(label=\"Embarazos\"),\n",
        "        gr.Number(label=\"Glucosa\"),\n",
        "        gr.Number(label=\"Presión arterial\"),\n",
        "        gr.Number(label=\"Grosor piel\"),\n",
        "        gr.Number(label=\"Insulina\"),\n",
        "        gr.Number(label=\"BMI\"),\n",
        "        gr.Number(label=\"Índice genético\"),\n",
        "        gr.Number(label=\"Edad\"),\n",
        "    ],\n",
        "    outputs=\"text\",\n",
        "    title=\"Predicción de Diabetes\"\n",
        ")\n",
        "\n",
        "demo.launch()"
      ],
      "metadata": {
        "id": "4kqbo4A4B7Pi"
      },
      "execution_count": null,
      "outputs": []
    },
    {
      "cell_type": "markdown",
      "source": [
        "> Puedes subir esta interfaz directamente a HuggingFace Spaces sin necesidad de servidores."
      ],
      "metadata": {
        "id": "xNhE3kuvB85S"
      }
    },
    {
      "cell_type": "markdown",
      "source": [
        "### Resumen Visual\n",
        "\n",
        "```\n",
        "[ Modelo Entrenado ]\n",
        "        ↓\n",
        "[ API FastAPI (localhost) ]\n",
        "        ↓\n",
        "[ Docker / Render / HuggingFace Spaces ]\n",
        "        ↓\n",
        "[ Producción con CI/CD ]\n",
        "        ↓\n",
        "[ Interfaz visual / Apps externas ]\n",
        "\n",
        "```\n"
      ],
      "metadata": {
        "id": "WZOBbISWCDJ-"
      }
    }
  ]
}