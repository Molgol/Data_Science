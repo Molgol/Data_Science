{
  "nbformat": 4,
  "nbformat_minor": 0,
  "metadata": {
    "colab": {
      "provenance": [],
      "collapsed_sections": [
        "dH3EiXtazw9S",
        "jV3YJIG7z9yP",
        "6hx8VD6J1CYr",
        "nV3gz6dT1OIC"
      ]
    },
    "kernelspec": {
      "name": "python3",
      "display_name": "Python 3"
    },
    "language_info": {
      "name": "python"
    }
  },
  "cells": [
    {
      "cell_type": "markdown",
      "source": [
        "# 🧪 Feature Engineering\n",
        "\n",
        "El *feature engineering* es el proceso de transformar, crear o seleccionar variables (features) para mejorar el rendimiento de los modelos de machine learning.\n",
        "\n",
        "🔹 A veces los datos originales no contienen directamente las variables que más ayudan al modelo.  \n",
        "🔹 Crear buenas features puede marcar más diferencia que cambiar de modelo.\n",
        "\n",
        "En este notebook, trabajaremos sobre el dataset del Titanic para aplicar:\n",
        "\n",
        "- Selección y transformación de variables\n",
        "- Codificación de variables categóricas\n",
        "- Generación de nuevas variables (features sintéticas)\n",
        "- Discretización, escalado y más\n"
      ],
      "metadata": {
        "id": "hzkYtKjJxNYT"
      }
    },
    {
      "cell_type": "markdown",
      "source": [
        "## Importación de librerías"
      ],
      "metadata": {
        "id": "coMG4JeFznmr"
      }
    },
    {
      "cell_type": "code",
      "execution_count": null,
      "metadata": {
        "id": "9YtDIUkyxK0t"
      },
      "outputs": [],
      "source": [
        "import pandas as pd\n",
        "import seaborn as sns\n",
        "\n",
        "df = sns.load_dataset(\"titanic\")\n",
        "df.head()"
      ]
    },
    {
      "cell_type": "markdown",
      "source": [
        "## Limpieza básica"
      ],
      "metadata": {
        "id": "jOsHJ8x_zswy"
      }
    },
    {
      "cell_type": "code",
      "source": [
        "# Eliminar columnas poco útiles para el modelo\n",
        "df = df.drop(columns=['deck', 'embark_town', 'alive'])\n",
        "\n",
        "# Imputar valores nulos\n",
        "df['age'] = df['age'].fillna(df['age'].median())\n",
        "df['embarked'] = df['embarked'].fillna(df['embarked'].mode()[0])"
      ],
      "metadata": {
        "id": "TU-vn_4fzuMV"
      },
      "execution_count": null,
      "outputs": []
    },
    {
      "cell_type": "markdown",
      "source": [
        "## Códificación de variables categóricas"
      ],
      "metadata": {
        "id": "dH3EiXtazw9S"
      }
    },
    {
      "cell_type": "markdown",
      "source": [
        "Label Encoding (para variables ordinales o binarias)"
      ],
      "metadata": {
        "id": "RqiuWoqhz2Fi"
      }
    },
    {
      "cell_type": "code",
      "source": [
        "df['sex'] = df['sex'].map({'male': 0, 'female': 1})"
      ],
      "metadata": {
        "id": "DGPePAuNzzz5"
      },
      "execution_count": null,
      "outputs": []
    },
    {
      "cell_type": "markdown",
      "source": [
        "One-Hot Encoding (para variables nominales)"
      ],
      "metadata": {
        "id": "2YnTOk96z5Do"
      }
    },
    {
      "cell_type": "code",
      "source": [
        "df = pd.get_dummies(df, columns=['embarked'], drop_first=True)"
      ],
      "metadata": {
        "id": "agP6uXbCz390"
      },
      "execution_count": null,
      "outputs": []
    },
    {
      "cell_type": "markdown",
      "source": [
        "## Crear nuevas variables"
      ],
      "metadata": {
        "id": "jV3YJIG7z9yP"
      }
    },
    {
      "cell_type": "markdown",
      "source": [
        "A. Título del pasajero (Mr, Mrs, Miss…)"
      ],
      "metadata": {
        "id": "AR-UBxmJ0ynQ"
      }
    },
    {
      "cell_type": "code",
      "source": [
        "df['title'] = df['name'].str.extract('([A-Za-z]+)\\.', expand=False)\n",
        "\n",
        "# Agrupar títulos raros\n",
        "df['title'] = df['title'].replace(['Lady', 'Countess', 'Capt', 'Col',\n",
        "                                   'Don', 'Dr', 'Major', 'Rev', 'Sir',\n",
        "                                   'Jonkheer', 'Dona'], 'Rare')\n",
        "\n",
        "# Simplificar\n",
        "df['title'] = df['title'].replace('Mlle', 'Miss')\n",
        "df['title'] = df['title'].replace('Ms', 'Miss')\n",
        "df['title'] = df['title'].replace('Mme', 'Mrs')\n",
        "\n",
        "df['title'] = df['title'].map({'Mr': 0, 'Miss': 1, 'Mrs': 2, 'Master': 3, 'Rare': 4})"
      ],
      "metadata": {
        "id": "nvNrQCZ7z-_P"
      },
      "execution_count": null,
      "outputs": []
    },
    {
      "cell_type": "markdown",
      "source": [
        "B. Tamaño de familia"
      ],
      "metadata": {
        "id": "ga_3gRrw04tR"
      }
    },
    {
      "cell_type": "code",
      "source": [
        "df['family_size'] = df['sibsp'] + df['parch'] + 1"
      ],
      "metadata": {
        "id": "7V69Wer402dA"
      },
      "execution_count": null,
      "outputs": []
    },
    {
      "cell_type": "markdown",
      "source": [
        "C. ¿Está solo?"
      ],
      "metadata": {
        "id": "MWK52bCp05bM"
      }
    },
    {
      "cell_type": "code",
      "source": [
        "df['is_alone'] = (df['family_size'] == 1).astype(int)"
      ],
      "metadata": {
        "id": "4f3UgnLF07Ay"
      },
      "execution_count": null,
      "outputs": []
    },
    {
      "cell_type": "markdown",
      "source": [
        "## Escalado de variables numéricas"
      ],
      "metadata": {
        "id": "6hx8VD6J1CYr"
      }
    },
    {
      "cell_type": "code",
      "source": [
        "from sklearn.preprocessing import StandardScaler\n",
        "\n",
        "scaler = StandardScaler()\n",
        "df[['age_scaled', 'fare_scaled']] = scaler.fit_transform(df[['age', 'fare']])"
      ],
      "metadata": {
        "id": "DypV-h9E09Fe"
      },
      "execution_count": null,
      "outputs": []
    },
    {
      "cell_type": "markdown",
      "source": [
        "## Otras transformaciones útiles"
      ],
      "metadata": {
        "id": "nV3gz6dT1OIC"
      }
    },
    {
      "cell_type": "markdown",
      "source": [
        "Discretización (binning)"
      ],
      "metadata": {
        "id": "yyRuSHvu1TEo"
      }
    },
    {
      "cell_type": "code",
      "source": [
        "# Agrupar edad en rangos\n",
        "df['age_bin'] = pd.cut(df['age'], bins=[0, 12, 18, 35, 60, 100], labels=['child', 'teen', 'young_adult', 'adult', 'senior'])"
      ],
      "metadata": {
        "id": "Uof7ZaRD1QZM"
      },
      "execution_count": null,
      "outputs": []
    },
    {
      "cell_type": "markdown",
      "source": [
        "## Modelo final"
      ],
      "metadata": {
        "id": "PmKv0dp93mVL"
      }
    },
    {
      "cell_type": "code",
      "source": [
        "df_model = df[['pclass', 'sex', 'age_scaled', 'fare_scaled', 'title', 'family_size', 'is_alone', 'embarked_Q', 'embarked_S', 'survived']]\n",
        "df_model.head()"
      ],
      "metadata": {
        "id": "RKHy25bI3ZbQ"
      },
      "execution_count": null,
      "outputs": []
    },
    {
      "cell_type": "markdown",
      "source": [
        "- Crear variables como `title` o `is_alone` puede capturar información útil que no se ve directamente.\n",
        "- La codificación y escalado son pasos esenciales si usarás modelos que lo requieran (como SVM o redes neuronales).\n",
        "- Siempre es bueno visualizar las nuevas variables para entender si agregan valor.\n"
      ],
      "metadata": {
        "id": "xt3pZXFH3j0n"
      }
    }
  ]
}