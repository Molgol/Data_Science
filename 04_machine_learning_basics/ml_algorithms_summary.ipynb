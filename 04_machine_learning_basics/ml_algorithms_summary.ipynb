{
  "nbformat": 4,
  "nbformat_minor": 0,
  "metadata": {
    "colab": {
      "provenance": [],
      "collapsed_sections": [
        "6OFyIaq-9dqa",
        "ErCl7DGi9m5t"
      ]
    },
    "kernelspec": {
      "name": "python3",
      "display_name": "Python 3"
    },
    "language_info": {
      "name": "python"
    }
  },
  "cells": [
    {
      "cell_type": "markdown",
      "source": [
        "# 🤖 Machine Learning Algorithms Summary\n",
        "\n",
        "Este notebook resume los principales algoritmos de *machine learning supervisado*, tanto para clasificación como para regresión, aunque nos centraremos más en clasificación.\n",
        "\n",
        "Usaremos el dataset del Titanic como ejemplo práctico para comparar:\n",
        "\n",
        "✅ Cómo funcionan  \n",
        "✅ Cuándo usarlos  \n",
        "✅ Sus ventajas y desventajas  \n",
        "✅ Qué hiperparámetros son importantes  \n",
        "✅ Qué tan bien predicen si alguien sobrevivió\n",
        "\n"
      ],
      "metadata": {
        "id": "eP1Si_ZI6vIp"
      }
    },
    {
      "cell_type": "markdown",
      "source": [
        "## Preparación del dataset"
      ],
      "metadata": {
        "id": "vgGfjxIs62Sy"
      }
    },
    {
      "cell_type": "code",
      "execution_count": null,
      "metadata": {
        "id": "ZBXRjmUi4k0J"
      },
      "outputs": [],
      "source": [
        "import pandas as pd\n",
        "import seaborn as sns\n",
        "from sklearn.model_selection import train_test_split\n",
        "from sklearn.preprocessing import StandardScaler\n",
        "\n",
        "# Cargar y preparar el dataset\n",
        "df = sns.load_dataset('titanic')\n",
        "\n",
        "# Preprocesamiento similar al notebook anterior\n",
        "df = df.drop(columns=['deck', 'embark_town', 'alive'])\n",
        "df['age'] = df['age'].fillna(df['age'].median())\n",
        "df['embarked'] = df['embarked'].fillna(df['embarked'].mode()[0])\n",
        "df['sex'] = df['sex'].map({'male': 0, 'female': 1})\n",
        "df = pd.get_dummies(df, columns=['embarked'], drop_first=True)\n",
        "\n",
        "# Crear nuevas variables\n",
        "df['family_size'] = df['sibsp'] + df['parch'] + 1\n",
        "df['is_alone'] = (df['family_size'] == 1).astype(int)\n",
        "\n",
        "# Escalar\n",
        "scaler = StandardScaler()\n",
        "df[['age', 'fare']] = scaler.fit_transform(df[['age', 'fare']])\n",
        "\n",
        "# Selección de variables\n",
        "features = ['pclass', 'sex', 'age', 'fare', 'family_size', 'is_alone', 'embarked_Q', 'embarked_S']\n",
        "X = df[features]\n",
        "y = df['survived']\n",
        "\n",
        "# División de datos\n",
        "X_train, X_test, y_train, y_test = train_test_split(X, y, test_size=0.2, random_state=42)"
      ]
    },
    {
      "cell_type": "markdown",
      "source": [
        "## Modelos de clasificación\n",
        "\n",
        "Vamos a probar:\n",
        "- Logistic Regression\n",
        "- K-Nearest Neighbors (KNN)\n",
        "- Decision Trees\n",
        "- Random Forest\n",
        "- Support Vector Machines (SVM)\n",
        "- Gradient Boosting (opcional)"
      ],
      "metadata": {
        "id": "GJ_krs1v7Ajn"
      }
    },
    {
      "cell_type": "markdown",
      "source": [
        "**A. Logistic Regression**"
      ],
      "metadata": {
        "id": "88H_iWD87IY_"
      }
    },
    {
      "cell_type": "code",
      "source": [
        "from sklearn.linear_model import LogisticRegression\n",
        "from sklearn.metrics import classification_report\n",
        "\n",
        "model = LogisticRegression()\n",
        "model.fit(X_train, y_train)\n",
        "y_pred = model.predict(X_test)\n",
        "\n",
        "print(classification_report(y_test, y_pred))"
      ],
      "metadata": {
        "id": "9BWaz6to7ChE"
      },
      "execution_count": null,
      "outputs": []
    },
    {
      "cell_type": "markdown",
      "source": [
        "Calcula una combinación lineal de las variables para estimar la probabilidad de una clase (por ejemplo, sobrevivir = 1). La regresión logística te dice cuánto aumenta o disminuye la probabilidad de que ocurra algo al cambiar una variable.\n",
        "\n",
        "**¿Cuándo usarla?**  \n",
        "- Cuando las variables tienen relación lineal con la probabilidad de clase.\n",
        "- Es rápida, interpretable y sirve de baseline.\n",
        "\n",
        "⚠️ **Limitaciones**: No modela relaciones no lineales.\n",
        "\n",
        "Coeficientes importantes: Las que tengan coeficientes (model.coef_) más alejados de 0. Por ejemplo, sex, pclass, fare.\n"
      ],
      "metadata": {
        "id": "kib1kEY37PMD"
      }
    },
    {
      "cell_type": "markdown",
      "source": [
        "**B. K-Nearest Neighbors (KNN)**"
      ],
      "metadata": {
        "id": "9mpx3BlE7UwW"
      }
    },
    {
      "cell_type": "code",
      "source": [
        "from sklearn.neighbors import KNeighborsClassifier\n",
        "\n",
        "model = KNeighborsClassifier(n_neighbors=5)\n",
        "model.fit(X_train, y_train)\n",
        "y_pred = model.predict(X_test)\n",
        "\n",
        "print(classification_report(y_test, y_pred))"
      ],
      "metadata": {
        "id": "O-9UpJKl7PpH"
      },
      "execution_count": null,
      "outputs": []
    },
    {
      "cell_type": "markdown",
      "source": [
        "Mide la \"distancia\" entre puntos para clasificarlos (por ejemplo, si tus 5 vecinos más cercanos sobrevivieron, tú también probablemente). No es interpretable directamente, pero funciona bien cuando los grupos están claramente separados en el espacio.\n",
        "\n",
        "**¿Cuándo usarlo?**  \n",
        "- Cuando no hay mucha data y el espacio de características tiene significado geométrico.\n",
        "- No necesita entrenamiento (lazy learner), solo compara con vecinos.\n",
        "\n",
        "⚠️ **Limitaciones**: Sensible a escala y a ruido, lento con grandes datasets.\n",
        "\n",
        "Hiperparámetro: `n_neighbors`, `metric`. No hay pesos directos, pero las que afecten más la distancia son las que más influyen. Por eso se deben escalar los datos.\n"
      ],
      "metadata": {
        "id": "w6riUkNU7huN"
      }
    },
    {
      "cell_type": "markdown",
      "source": [
        "**C. Árboles de decisión**"
      ],
      "metadata": {
        "id": "L_dh6O0C8_xE"
      }
    },
    {
      "cell_type": "code",
      "source": [
        "from sklearn.tree import DecisionTreeClassifier\n",
        "\n",
        "model = DecisionTreeClassifier(max_depth=4, random_state=42)\n",
        "model.fit(X_train, y_train)\n",
        "y_pred = model.predict(X_test)\n",
        "\n",
        "print(classification_report(y_test, y_pred))"
      ],
      "metadata": {
        "id": "f53hJUAL7ZAT"
      },
      "execution_count": null,
      "outputs": []
    },
    {
      "cell_type": "markdown",
      "source": [
        "Dividen el dataset en ramas según condiciones en las variables. Son muy explicativos: puedes ver qué reglas tomó el árbol para llegar a una predicción.\n",
        "\n",
        "**¿Cuándo usarlo?**  \n",
        "- Si quieres interpretabilidad y reglas claras.\n",
        "- Puede capturar relaciones no lineales fácilmente.\n",
        "\n",
        "⚠️ **Limitaciones**: Overfitting si no se poda (`max_depth`, `min_samples_leaf`)\n",
        "\n",
        "Variables importantes: Las que más se usan para dividir los datos y reducir incertidumbre (model.feature_importances_).\n"
      ],
      "metadata": {
        "id": "7m4oeavp9D9e"
      }
    },
    {
      "cell_type": "markdown",
      "source": [
        "**D. Random Forest**"
      ],
      "metadata": {
        "id": "GhdQMXBu9GDV"
      }
    },
    {
      "cell_type": "code",
      "source": [
        "from sklearn.ensemble import RandomForestClassifier\n",
        "\n",
        "model = RandomForestClassifier(n_estimators=100, random_state=42)\n",
        "model.fit(X_train, y_train)\n",
        "y_pred = model.predict(X_test)\n",
        "\n",
        "print(classification_report(y_test, y_pred))"
      ],
      "metadata": {
        "id": "iOy3Z-Vn9EQg"
      },
      "execution_count": null,
      "outputs": []
    },
    {
      "cell_type": "markdown",
      "source": [
        "Combina el resultado de varios árboles de decisión para obtener una solución.\n",
        "\n",
        "**¿Cuándo usarlo?**  \n",
        "- Cuando quieres precisión y evitar overfitting.\n",
        "- Muy bueno para variables mixtas (numéricas + categóricas).\n",
        "\n",
        "⚠️ **Limitaciones**: Menos interpretable, más pesado.\n",
        "\n",
        "Hiperparámetros: `n_estimators`, `max_depth`\n"
      ],
      "metadata": {
        "id": "jeJwYBUh9IOL"
      }
    },
    {
      "cell_type": "markdown",
      "source": [
        "**E. SVM (Support Vector Machine)**"
      ],
      "metadata": {
        "id": "gCeELgeO9KOe"
      }
    },
    {
      "cell_type": "code",
      "source": [
        "from sklearn.svm import SVC\n",
        "\n",
        "model = SVC(kernel='rbf', C=1, gamma='scale')\n",
        "model.fit(X_train, y_train)\n",
        "y_pred = model.predict(X_test)\n",
        "\n",
        "print(classification_report(y_test, y_pred))"
      ],
      "metadata": {
        "id": "cp9rQ3tt9O8A"
      },
      "execution_count": null,
      "outputs": []
    },
    {
      "cell_type": "markdown",
      "source": [
        "Encuentra un hiperplano (una frontera) que separa clases lo mejor posible. Más complejo de interpretar, pero útil para datos donde las clases no se separan fácilmente.\n",
        "\n",
        "**¿Cuándo usarla?**  \n",
        "- Muy buena en datasets con muchas dimensiones y márgenes claros.\n",
        "- Potente con pocas observaciones y datos escalados.\n",
        "\n",
        "⚠️ **Limitaciones**: Costosa en grandes datasets, menos interpretable.\n",
        "\n",
        "Hiperparámetros: `C`, `kernel`, `gamma`. Es necesario definir las variables que determinan la posición del margen del hp."
      ],
      "metadata": {
        "id": "8y-WmKts9RAA"
      }
    },
    {
      "cell_type": "markdown",
      "source": [
        "**F. Gradient Boosting**"
      ],
      "metadata": {
        "id": "IW1JjxDH9SQ3"
      }
    },
    {
      "cell_type": "code",
      "source": [
        "from sklearn.ensemble import GradientBoostingClassifier\n",
        "\n",
        "model = GradientBoostingClassifier()\n",
        "model.fit(X_train, y_train)\n",
        "y_pred = model.predict(X_test)\n",
        "\n",
        "print(classification_report(y_test, y_pred))"
      ],
      "metadata": {
        "id": "OzVqUEfQ9T__"
      },
      "execution_count": null,
      "outputs": []
    },
    {
      "cell_type": "markdown",
      "source": [
        "Crea árboles secuenciales, donde cada nuevo árbol corrige errores del anterior.Es potente y flexible, pero no tan fácil de explicar sin herramientas específicas.\n",
        "\n",
        "**¿Cuándo usarlo?**  \n",
        "- Cuando quieres el mejor rendimiento posible (competencias Kaggle).\n",
        "- Captura relaciones complejas, robusto a ruido.\n",
        "\n",
        "⚠️ **Limitaciones**: Requiere tuning de muchos hiperparámetros, más lento de entrenar.\n",
        "\n",
        "Variables importantes: De nuevo `.feature_importances_`. También puedes usar técnicas como SHAP para explicabilidad más profunda."
      ],
      "metadata": {
        "id": "mNakwLjX9WYe"
      }
    },
    {
      "cell_type": "markdown",
      "source": [
        "## Comparativa de resultados"
      ],
      "metadata": {
        "id": "6OFyIaq-9dqa"
      }
    },
    {
      "cell_type": "code",
      "source": [
        "from sklearn.metrics import accuracy_score\n",
        "\n",
        "models = {\n",
        "    'Logistic Regression': LogisticRegression(),\n",
        "    'KNN': KNeighborsClassifier(),\n",
        "    'Decision Tree': DecisionTreeClassifier(),\n",
        "    'Random Forest': RandomForestClassifier(),\n",
        "    'SVM': SVC(),\n",
        "    'Gradient Boosting': GradientBoostingClassifier()\n",
        "}\n",
        "\n",
        "for name, model in models.items():\n",
        "    model.fit(X_train, y_train)\n",
        "    pred = model.predict(X_test)\n",
        "    acc = accuracy_score(y_test, pred)\n",
        "    print(f\"{name}: {acc:.3f}\")"
      ],
      "metadata": {
        "id": "0ck_28x_9kXs"
      },
      "execution_count": null,
      "outputs": []
    },
    {
      "cell_type": "markdown",
      "source": [
        "## Conclusiones"
      ],
      "metadata": {
        "id": "ErCl7DGi9m5t"
      }
    },
    {
      "cell_type": "markdown",
      "source": [
        "| Modelo               | Pros                           | Contras                          |\n",
        "|----------------------|--------------------------------|----------------------------------|\n",
        "| Logistic Regression  | Simple, interpretable          | No capta no-linealidad          |\n",
        "| KNN                  | Fácil, no entrena              | Lento, sensible a escala         |\n",
        "| Árbol de decisión    | Interpretables, no-linealidad  | Overfitting sin poda             |\n",
        "| Random Forest        | Robusto, preciso                | Menos interpretable              |\n",
        "| SVM                  | Preciso en alta dimensión       | Lento, menos interpretable       |\n",
        "| Gradient Boosting    | Muy preciso                     | Más costoso, tuning complejo     |\n",
        "\n",
        "El mejor modelo depende del problema, pero entender cómo funciona cada uno es el primer paso hacia una buena solución. 🎯\n"
      ],
      "metadata": {
        "id": "-0Df-tP39o7l"
      }
    },
    {
      "cell_type": "markdown",
      "source": [
        "## (ANEXO) GLM: Generalized Linear Models\n",
        "Los GLM (Modelos Lineales Generalizados) son una generalización de la regresión lineal/logística que permiten otros tipos de distribución de error y funciones de enlace."
      ],
      "metadata": {
        "id": "38mVarwjDYQa"
      }
    },
    {
      "cell_type": "code",
      "source": [
        "import statsmodels.api as sm\n",
        "\n",
        "X_glm = sm.add_constant(X_train)  # se agrega constante (intercepto)\n",
        "glm_model = sm.GLM(y_train, X_glm, family=sm.families.Binomial())\n",
        "glm_results = glm_model.fit()\n",
        "\n",
        "print(glm_results.summary())"
      ],
      "metadata": {
        "id": "pl3v67toDdqU"
      },
      "execution_count": null,
      "outputs": []
    },
    {
      "cell_type": "markdown",
      "source": [
        "El resumen contiene:\n",
        "* Una tabla detallada con los coeficientes de cada variable\n",
        "* Valores p para evaluar la significancia estadística\n",
        "* Odds ratio interpretables\n",
        "* R^2 pseudo para calidad del ajuste\n",
        "\n",
        "\n",
        "**¿Cuándo usarla?**  \n",
        "- Cuando necesitas interpretabilidad estadística fuerte\n",
        "- Cuando el proyecto es más científico o académico\n",
        "- Cuando quieres probar hipótesis sobre variables específicas\n",
        "\n",
        "> Otros tipos de familias son: Poisson (para contar eventos (ej. número de compras)) o Gamma (para valores positivos continuos (costes, tiempos))"
      ],
      "metadata": {
        "id": "DmxdwuxgviNI"
      }
    }
  ]
}