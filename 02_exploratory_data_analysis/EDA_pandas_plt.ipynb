{
  "nbformat": 4,
  "nbformat_minor": 0,
  "metadata": {
    "colab": {
      "provenance": []
    },
    "kernelspec": {
      "name": "python3",
      "display_name": "Python 3"
    },
    "language_info": {
      "name": "python"
    }
  },
  "cells": [
    {
      "cell_type": "markdown",
      "source": [
        "# 🧭 Exploratory Data Analysis (EDA) with Pandas & Matplotlib\n",
        "\n",
        "El Análisis Exploratorio de Datos (EDA) permite conocer un dataset antes de aplicar modelos. En esta sección aprenderás a usar **pandas** y **matplotlib** para:\n",
        "\n",
        "- Verificar valores nulos\n",
        "- Entender distribuciones\n",
        "- Analizar relaciones entre variables\n"
      ],
      "metadata": {
        "id": "LAaKIeYXpxXF"
      }
    },
    {
      "cell_type": "markdown",
      "source": [
        "## Carga del dataset (de nuevo partiremos del dataset del Titanic)"
      ],
      "metadata": {
        "id": "aKIdqkxdp8gT"
      }
    },
    {
      "cell_type": "code",
      "source": [
        "import pandas as pd\n",
        "import matplotlib.pyplot as plt\n",
        "\n",
        "# Cargar el dataset Titanic desde seaborn por conveniencia\n",
        "import seaborn as sns\n",
        "df = sns.load_dataset(\"titanic\")\n",
        "\n",
        "# Mostrar las primeras filas\n",
        "df.head()"
      ],
      "metadata": {
        "id": "mNkjy534pxw_"
      },
      "execution_count": null,
      "outputs": []
    },
    {
      "cell_type": "markdown",
      "source": [
        "## Exploración general con Pandas"
      ],
      "metadata": {
        "id": "v1yHRyhxsXHR"
      }
    },
    {
      "cell_type": "code",
      "source": [
        "# Dimensiones y tipos de datos\n",
        "print(f\"Shape: {df.shape}\")\n",
        "print(df.dtypes)\n",
        "\n",
        "# Información general\n",
        "df.info()\n",
        "\n",
        "# Estadísticas descriptivas\n",
        "df.describe(include='all').T\n",
        "\n",
        "# Valores nulos por columna\n",
        "df.isnull().sum()"
      ],
      "metadata": {
        "id": "hCTnxJKNsZjL"
      },
      "execution_count": null,
      "outputs": []
    },
    {
      "cell_type": "markdown",
      "source": [
        "> Observamos columnas como `age`, `embarked` y `deck` con valores nulos que debemos considerar antes de modelar.\n"
      ],
      "metadata": {
        "id": "qvdx_Sz_siGg"
      }
    },
    {
      "cell_type": "markdown",
      "source": [
        "## Análisis de variables\n",
        "A. Variables categóricas\n"
      ],
      "metadata": {
        "id": "6lmG5tLPsmF-"
      }
    },
    {
      "cell_type": "code",
      "source": [
        "# Conteo de valores únicos\n",
        "df['sex'].value_counts()\n",
        "\n",
        "# Porcentaje\n",
        "df['embarked'].value_counts(normalize=True) * 100"
      ],
      "metadata": {
        "id": "tS9p-iDzsiZA"
      },
      "execution_count": null,
      "outputs": []
    },
    {
      "cell_type": "markdown",
      "source": [
        "\n",
        "B. Variables numéricas"
      ],
      "metadata": {
        "id": "oDBXh1ecs2Gi"
      }
    },
    {
      "cell_type": "code",
      "source": [
        "# Estadísticas\n",
        "df[['age', 'fare']].describe()\n",
        "\n",
        "# Detectar valores extremos (outliers)\n",
        "q1 = df['fare'].quantile(0.25)\n",
        "q3 = df['fare'].quantile(0.75)\n",
        "iqr = q3 - q1\n",
        "outliers = df[(df['fare'] < q1 - 1.5 * iqr) | (df['fare'] > q3 + 1.5 * iqr)]\n",
        "outliers.shape"
      ],
      "metadata": {
        "id": "3zqKW1Zis2aQ"
      },
      "execution_count": null,
      "outputs": []
    },
    {
      "cell_type": "markdown",
      "source": [
        "## Visualizaciones con MatPlotlib"
      ],
      "metadata": {
        "id": "VDMM-d7Es73R"
      }
    },
    {
      "cell_type": "code",
      "source": [
        "# Histograma de edad\n",
        "plt.hist(df['age'].dropna(), bins=30, edgecolor='black')\n",
        "plt.title(\"Distribución de Edad\")\n",
        "plt.xlabel(\"Edad\")\n",
        "plt.ylabel(\"Frecuencia\")\n",
        "plt.grid(True)\n",
        "plt.show()"
      ],
      "metadata": {
        "id": "dCrgR-Lks-No"
      },
      "execution_count": null,
      "outputs": []
    },
    {
      "cell_type": "markdown",
      "source": [
        "**Histograma:**\n",
        "¿Qué muestra?\n",
        "\n",
        "Distribución de una variable numérica. Frecuencia de valores divididos en “bins” o intervalos.\n",
        "\n",
        "¿Para qué sirve?\n",
        "\n",
        "* Ver si los datos están normalmente distribuidos (forma de campana).\n",
        "* Identificar asimetrías (skewed distributions).\n",
        "* Detectar outliers si hay colas largas o valores extremos.\n",
        "\n",
        "> \"La mayoría de pasajeros del Titanic tenía entre 20 y 40 años. Hay pocos bebés o ancianos.”"
      ],
      "metadata": {
        "id": "cVI_al2DtuK0"
      }
    },
    {
      "cell_type": "code",
      "source": [
        "# Gráfico de barras: supervivencia por sexo\n",
        "df_sex_survived = df.groupby('sex')['survived'].value_counts().unstack()\n",
        "df_sex_survived.plot(kind='bar', stacked=True)\n",
        "plt.title(\"Supervivencia por Sexo\")\n",
        "plt.xlabel(\"Sexo\")\n",
        "plt.ylabel(\"Número de Pasajeros\")\n",
        "plt.legend(title=\"¿Sobrevivió?\")\n",
        "plt.show()"
      ],
      "metadata": {
        "id": "qRMX-vuTs_fQ"
      },
      "execution_count": null,
      "outputs": []
    },
    {
      "cell_type": "markdown",
      "source": [
        "**Gráfico de barras (agrupado o apilado):** ¿Qué muestra?\n",
        "\n",
        "Comparación de cantidades entre categorías (como sexo o clase) y otra variable categórica (como sobrevivió o no).\n",
        "\n",
        "¿Para qué sirve?\n",
        "\n",
        "* Comparar frecuencias absolutas.\n",
        "* Ver tendencias o diferencias entre grupos.\n",
        "\n",
        "> “Sobrevivieron más mujeres que hombres, incluso si viajaban en tercera clase.”"
      ],
      "metadata": {
        "id": "fmbOd_Oju1rH"
      }
    },
    {
      "cell_type": "code",
      "source": [
        "# Boxplot de tarifas por clase\n",
        "df.boxplot(column='fare', by='pclass', grid=False)\n",
        "plt.title(\"Tarifa por Clase\")\n",
        "plt.suptitle(\"\")\n",
        "plt.xlabel(\"Clase\")\n",
        "plt.ylabel(\"Tarifa\")\n",
        "plt.show()"
      ],
      "metadata": {
        "id": "JKk0YbUutBpi"
      },
      "execution_count": null,
      "outputs": []
    },
    {
      "cell_type": "markdown",
      "source": [
        "**Boxplot:** ¿Qué muestra?\n",
        "\n",
        "Mediana, cuartiles, rango intercuartílico y outliers de una variable numérica. Se puede agrupar por categorías.\n",
        "\n",
        "¿Para qué sirve?\n",
        "\n",
        "* Comparar la distribución de una variable numérica entre grupos.\n",
        "* Ver la variabilidad interna y si hay valores atípicos.\n",
        "\n",
        "> “Los pasajeros de 1ª clase pagaron mucho más que los de 2ª o 3ª, y hay bastantes outliers en tarifas altas.”"
      ],
      "metadata": {
        "id": "HUkhHFvauj_M"
      }
    },
    {
      "cell_type": "code",
      "source": [
        "# Pie chart de embarque\n",
        "embarked_counts = df['embarked'].value_counts()\n",
        "plt.pie(embarked_counts, labels=embarked_counts.index, autopct='%1.1f%%', startangle=90)\n",
        "plt.title(\"Distribución por Puerto de Embarque\")\n",
        "plt.show()"
      ],
      "metadata": {
        "id": "XqiEoLM5tDVZ"
      },
      "execution_count": null,
      "outputs": []
    },
    {
      "cell_type": "markdown",
      "source": [
        "**Gráfico de pastel (pie chart):** ¿Qué muestra?\n",
        "\n",
        "Proporciones relativas (%) de una variable categórica. Algunas veces es más preciso visualmente usar un gráfico de barras.\n",
        "\n",
        "¿Para qué sirve?\n",
        "\n",
        "* Ilustrar cómo se reparte el total entre categorías.\n",
        "* Bueno cuando hay pocas categorías (2 a 5 máx).\n",
        "\n",
        "> “La mayoría de los pasajeros embarcó en Southampton, pocos en Cherburgo o Queenstown.”"
      ],
      "metadata": {
        "id": "vb4B9nTWvFXB"
      }
    },
    {
      "cell_type": "code",
      "source": [
        "# Filtramos solo variables numéricas\n",
        "df_numeric = df.select_dtypes(include='number')\n",
        "\n",
        "# Calculamos la matriz de correlación\n",
        "correlation_matrix = df_numeric.corr()\n",
        "\n",
        "# Mostramos la matriz\n",
        "print(correlation_matrix)\n",
        "\n",
        "# Visualización con seaborn\n",
        "plt.figure(figsize=(8, 6))\n",
        "sns.heatmap(correlation_matrix, annot=True, cmap='coolwarm', fmt=\".2f\", square=True, linewidths=0.5)\n",
        "plt.title(\"🔗 Matriz de Correlación entre Variables Numéricas\")\n",
        "plt.show()"
      ],
      "metadata": {
        "id": "NzRdkgqTv9_r"
      },
      "execution_count": null,
      "outputs": []
    },
    {
      "cell_type": "markdown",
      "source": [
        "**Mapa de calor de correlaciones:** ¿Qué muestra?\n",
        "\n",
        "Correlaciones entre variables numéricas (cuán relacionadas están).\n",
        "\n",
        "¿Para qué sirve?\n",
        "\n",
        "* Detectar multicolinealidad.\n",
        "* Elegir variables relevantes.\n",
        "* Encontrar relaciones inesperadas.\n",
        "\n",
        "> “Edad y tarifa no están correlacionadas. Pero clase y tarifa tienen fuerte correlación negativa.”"
      ],
      "metadata": {
        "id": "Gw77sRcHwL7_"
      }
    },
    {
      "cell_type": "markdown",
      "source": [
        "## 🧠 Conclusiones del análisis:\n",
        "\n",
        "- Más mujeres sobrevivieron que hombres.\n",
        "- Los pasajeros de clase alta (1ª) tuvieron mayor tasa de supervivencia.\n",
        "- La edad y la tarifa presentan valores extremos que pueden necesitar tratamiento.\n",
        "- Algunos valores faltantes importantes deben imputarse antes del modelado.\n",
        "\n",
        "Este análisis visual y exploratorio es clave para tomar decisiones inteligentes en etapas posteriores como el preprocesamiento o el modelado."
      ],
      "metadata": {
        "id": "CqaFU3iWtGxG"
      }
    }
  ]
}