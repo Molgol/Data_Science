{
  "nbformat": 4,
  "nbformat_minor": 0,
  "metadata": {
    "colab": {
      "provenance": []
    },
    "kernelspec": {
      "name": "python3",
      "display_name": "Python 3"
    },
    "language_info": {
      "name": "python"
    }
  },
  "cells": [
    {
      "cell_type": "markdown",
      "source": [
        "# 🛠️ Essential Tools for MLE and MLOps: Git, DVC, Jenkins, and Docker\n",
        "\n",
        "\n",
        "## Why these tools?\n",
        "\n",
        "When working on data science or machine learning projects as a team, it's not enough to just know how to train models. You need best practices that help you:\n",
        "\n",
        "- Collaborate with other people\n",
        "- Version control for code and data\n",
        "- Automate processes (such as training and deployment)\n",
        "- Package our applications so they work anywhere\n",
        "\n",
        "This is where tools like these come into play:\n",
        "\n",
        "- **Git** → Version control for code\n",
        "- **DVC** → Version control for data and models\n",
        "- **Jenkins** → Automation (CI/CD)\n",
        "- **Docker** → Create containers so your code runs the same in any environment\n"
      ],
      "metadata": {
        "id": "yLdeUUtCGjJY"
      }
    },
    {
      "cell_type": "markdown",
      "source": [
        "## Git: Version control for code\n",
        "\n",
        "Git is a system that allows you to **keep track of changes in your code**. It's like a \"time machine\" for your project files.\n",
        "\n",
        "With Git you can:\n",
        "\n",
        "- Save versions of your code (like \"checkpoints\")\n",
        "- Work on different branches\n",
        "- Collaborate with others without overwriting each other's work\n",
        "\n",
        "Best of all: you can upload your project to GitHub and work from the cloud."
      ],
      "metadata": {
        "id": "BcOL4586GrAS"
      }
    },
    {
      "cell_type": "markdown",
      "source": [
        "**Practical example**\n",
        "\n",
        "```\n",
        "# Initialize Git in a project\n",
        "git init\n",
        "\n",
        "# Add files to version control\n",
        "git add .\n",
        "\n",
        "# Save a change (commit)\n",
        "git commit -m \"First commit\"\n",
        "\n",
        "# Connect to GitHub and push the project\n",
        "git remote add origin https://github.com/tu_usuario/tu_repo.git\n",
        "git push -u origin main\n",
        "```"
      ],
      "metadata": {
        "id": "ds8B9O5EG57_"
      }
    },
    {
      "cell_type": "markdown",
      "source": [
        "> For example, my git where I upload these notebooks: [GitHub](https://github.com/Molgol/Data_Science/)"
      ],
      "metadata": {
        "id": "5igU3GFFpNUk"
      }
    },
    {
      "cell_type": "markdown",
      "source": [
        "## DVC: Version Control for data and models\n",
        "\n",
        "DVC (Data Version Control) extends Git so you can also version:\n",
        "\n",
        "- Large **datasets** (which don't fit well in Git)\n",
        "- **Trained models**\n",
        "- Processing pipelines\n",
        "\n",
        "This is especially useful because in ML not only the code changes, but also the data and experiments."
      ],
      "metadata": {
        "id": "moun8lldG_bQ"
      }
    },
    {
      "cell_type": "markdown",
      "source": [
        "\n",
        "#### What does DVC do?\n",
        "\n",
        "| Action     | What DVC does                                                     |\n",
        "| ---------- | ----------------------------------------------------------------- |\n",
        "| `dvc init` | Initializes DVC in your project                                   |\n",
        "| `dvc add`  | Adds a file (e.g., a CSV or model) to version control             |\n",
        "| `dvc push` | Uploads data to an external storage (like Google Drive, S3, etc.) |\n",
        "| `dvc pull` | Downloads the data back                                           |\n"
      ],
      "metadata": {
        "id": "xQk8EHUbHD2e"
      }
    },
    {
      "cell_type": "markdown",
      "source": [
        "**Practical example**\n",
        "\n",
        "```\n",
        "# Install dvc\n",
        "pip install dvc\n",
        "\n",
        "# Initialize a new project\n",
        "dvc init\n",
        "\n",
        "# Add a dataset\n",
        "dvc add data/train.csv\n",
        "\n",
        "# DVC creates a .dvc file that can be versioned with Git\n",
        "git add data/train.csv.dvc .gitignore\n",
        "git commit -m \"Added dataset to the control with DVC\"\n",
        "```"
      ],
      "metadata": {
        "id": "Y2NB8D58HL1a"
      }
    },
    {
      "cell_type": "markdown",
      "source": [
        "## Jenkins: Automating tasks with CI/CD\n",
        "\n",
        "Jenkins is a tool used to automate tasks. For example:\n",
        "\n",
        "- **Automatically test your code** when you make a change\n",
        "- Retrain the model if there is new data\n",
        "- **Deploy your app** if it passes the tests\n",
        "\n",
        "This is part of the **CI/CD cycle**:\n",
        "\n",
        "> CI = Continuous Integration // CD = Continuous Deployment"
      ],
      "metadata": {
        "id": "KHLra3GPHPL8"
      }
    },
    {
      "cell_type": "markdown",
      "source": [
        "\n",
        "### How does Jenkins work?\n",
        "\n",
        "- It has a web interface where you can see your \"jobs\"\n",
        "- Each job can perform steps like: installing dependencies, running scripts, deploying, etc\n",
        "- You can connect it to GitHub so it triggers every time you push code\n"
      ],
      "metadata": {
        "id": "6JoT-UNJHerA"
      }
    },
    {
      "cell_type": "markdown",
      "source": [
        "\n",
        "\n",
        "### Example of `Jenkinsfile`:\n",
        "\n",
        "A configuration file is placed at the root of the repository to define what Jenkins should do\n",
        "\n",
        "```groovy\n",
        "pipeline {\n",
        "  agent any\n",
        "  stages {\n",
        "    stage('Install dependencies') {\n",
        "      steps {\n",
        "        sh 'pip install -r requirements.txt'\n",
        "      }\n",
        "    }\n",
        "    stage('Run tests') {\n",
        "      steps {\n",
        "        sh 'python -m unittest discover tests'\n",
        "      }\n",
        "    }\n",
        "    stage('Train the model') {\n",
        "      steps {\n",
        "        sh 'python train.py'\n",
        "      }\n",
        "    }\n",
        "  }\n",
        "}\n",
        "```"
      ],
      "metadata": {
        "id": "UM_92FgbHiG0"
      }
    },
    {
      "cell_type": "markdown",
      "source": [
        "## Docker – Containers to package your app\n",
        "\n",
        "Docker allows you to **package your application** (with everything it needs to run: Python, libraries, code, etc.) into a **container**.\n",
        "\n",
        "That container works the same everywhere: your computer, a server, the cloud — anywhere."
      ],
      "metadata": {
        "id": "FMGsKWj0Hogq"
      }
    },
    {
      "cell_type": "markdown",
      "source": [
        "### What is Docker used for?\n",
        "\n",
        "- Avoids the classic “it works on my machine” issue\n",
        "- It's the standard way to deploy APIs in production\n",
        "- Commonly used with FastAPI and Flask"
      ],
      "metadata": {
        "id": "HSIDFi92HthD"
      }
    },
    {
      "cell_type": "markdown",
      "source": [
        "### 📄 Example of `Dockerfile`\n",
        "\n",
        "```\n",
        "# 1. Base image with Python\n",
        "FROM python:3.9\n",
        "\n",
        "# 2. Working directory\n",
        "WORKDIR /app\n",
        "\n",
        "# 3. Copy files\n",
        "COPY . .\n",
        "\n",
        "# 4. Install dependencies\n",
        "RUN pip install -r requirements.txt\n",
        "\n",
        "# 5. Start-up command\n",
        "CMD [\"uvicorn\", \"main:app\", \"--host\", \"0.0.0.0\", \"--port\", \"80\"]\n",
        "```"
      ],
      "metadata": {
        "id": "4qiYJzHHHvgX"
      }
    },
    {
      "cell_type": "markdown",
      "source": [
        "Next, you build the container image and run it.\n",
        "\n",
        "```\n",
        "# Build the image\n",
        "docker build -t mi_api_diabetes .\n",
        "\n",
        "# Run the container\n",
        "docker run -p 8000:80 mi_api_diabetes\n",
        "```"
      ],
      "metadata": {
        "id": "0pHh0-NBH-pc"
      }
    },
    {
      "cell_type": "markdown",
      "source": [
        "## Final summary"
      ],
      "metadata": {
        "id": "8liQyXpxIFil"
      }
    },
    {
      "cell_type": "markdown",
      "source": [
        "### Conclusion\n",
        "\n",
        "These tools are at the core of the modern workflow for machine learning projects:\n",
        "\n",
        "| Tool        | What is it for?                     |\n",
        "| ----------- | ----------------------------------- |\n",
        "| **Git**     | Version control for code            |\n",
        "| **DVC**     | Version control for data and models |\n",
        "| **Jenkins** | Automate processes (CI/CD)          |\n",
        "| **Docker**  | Package your app to run in any environment    |\n",
        "\n",
        "\n",
        "What can I do next?\n",
        "\n",
        "- Connect Jenkins with Docker to automatically deploy the API\n",
        "- Use DVC + GitHub + CI/CD to retrain the model when there is new data\n",
        "- Upload the Docker image to a cloud service (e.g., AWS, Render, etc.)\n",
        "- Version experiments and metrics using DVC"
      ],
      "metadata": {
        "id": "wA_aegprqUoU"
      }
    }
  ]
}
