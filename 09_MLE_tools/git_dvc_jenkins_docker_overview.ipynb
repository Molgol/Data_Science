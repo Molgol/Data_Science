{
  "nbformat": 4,
  "nbformat_minor": 0,
  "metadata": {
    "colab": {
      "provenance": [],
      "collapsed_sections": [
        "BcOL4586GrAS",
        "moun8lldG_bQ",
        "KHLra3GPHPL8",
        "FMGsKWj0Hogq"
      ]
    },
    "kernelspec": {
      "name": "python3",
      "display_name": "Python 3"
    },
    "language_info": {
      "name": "python"
    }
  },
  "cells": [
    {
      "cell_type": "markdown",
      "source": [
        "# 🛠️ Herramientas esenciales para MLE y MLOps: Git, DVC, Jenkins y Docker\n",
        "\n",
        "\n",
        "## ¿Por qué estas herramientas?\n",
        "\n",
        "Cuando trabajamos en proyectos de ciencia de datos o machine learning en equipo, no basta con saber entrenar modelos. Necesitamos buenas prácticas que nos ayuden a:\n",
        "\n",
        "- Colaborar con otras personas\n",
        "- Controlar versiones de código y datos\n",
        "- Automatizar procesos (como entrenamiento y despliegue)\n",
        "- Empaquetar nuestras aplicaciones para que funcionen \"en cualquier parte\"\n",
        "\n",
        "Aquí es donde entran en juego herramientas como:\n",
        "\n",
        "- **Git** → Control de versiones de código\n",
        "- **DVC** → Control de versiones de datos y modelos\n",
        "- **Jenkins** → Automatización (CI/CD)\n",
        "- **Docker** → Crear contenedores para que tu código funcione igual en cualquier entorno\n"
      ],
      "metadata": {
        "id": "yLdeUUtCGjJY"
      }
    },
    {
      "cell_type": "markdown",
      "source": [
        "## Git: Control de versiones\n",
        "\n",
        "Git es un sistema que te permite llevar el control de los cambios en tu código. Es como una \"máquina del tiempo\" para tus archivos de proyecto.\n",
        "\n",
        "Con Git puedes:\n",
        "\n",
        "- Guardar versiones del código (como \"checkpoints\")\n",
        "- Trabajar en ramas diferentes\n",
        "- Colaborar con otros sin pisarse los cambios\n",
        "\n",
        "Y lo mejor: puedes subir tu proyecto a **GitHub** y trabajar desde la nube.\n"
      ],
      "metadata": {
        "id": "BcOL4586GrAS"
      }
    },
    {
      "cell_type": "markdown",
      "source": [
        "**Ejemplo práctico**"
      ],
      "metadata": {
        "id": "ds8B9O5EG57_"
      }
    },
    {
      "cell_type": "code",
      "execution_count": null,
      "metadata": {
        "id": "CncoGa8cGgSy"
      },
      "outputs": [],
      "source": [
        "# Inicializar Git en un proyecto\n",
        "git init\n",
        "\n",
        "# Agregar archivos al control de versiones\n",
        "git add .\n",
        "\n",
        "# Guardar un cambio (commit)\n",
        "git commit -m \"Primer commit\"\n",
        "\n",
        "# Conectar a GitHub y subir\n",
        "git remote add origin https://github.com/tu_usuario/tu_repo.git\n",
        "git push -u origin main"
      ]
    },
    {
      "cell_type": "markdown",
      "source": [
        "## DVC: Control de versiones para datos y modelos\n",
        "\n",
        "DVC (Data Version Control) extiende Git para que puedas versionar también:\n",
        "\n",
        "- Conjuntos de datos grandes (que no caben bien en Git)\n",
        "- Modelos entrenados\n",
        "- Pipelines de procesamiento\n",
        "\n",
        "Esto es especialmente útil porque en ML no solo cambia el código, también cambian los datos y los experimentos."
      ],
      "metadata": {
        "id": "moun8lldG_bQ"
      }
    },
    {
      "cell_type": "markdown",
      "source": [
        "\n",
        "#### ¿Qué hace DVC?\n",
        "\n",
        "| Acción | ¿Qué hace DVC? |\n",
        "|--------|----------------|\n",
        "| `dvc init` | Inicializa DVC en tu proyecto |\n",
        "| `dvc add`  | Añade un archivo (por ejemplo, un CSV o modelo) al control de versiones |\n",
        "| `dvc push` | Sube los datos a un sistema externo (como Google Drive, S3, etc.) |\n",
        "| `dvc pull` | Descarga los datos de vuelta |\n"
      ],
      "metadata": {
        "id": "xQk8EHUbHD2e"
      }
    },
    {
      "cell_type": "markdown",
      "source": [
        "**Ejemplo práctico**"
      ],
      "metadata": {
        "id": "Y2NB8D58HL1a"
      }
    },
    {
      "cell_type": "code",
      "source": [
        "# Instalar dvc\n",
        "pip install dvc\n",
        "\n",
        "# Inicializar en el proyecto\n",
        "dvc init\n",
        "\n",
        "# Añadir dataset\n",
        "dvc add data/train.csv\n",
        "\n",
        "# Se genera un archivo .dvc que se puede versionar con git\n",
        "git add data/train.csv.dvc .gitignore\n",
        "git commit -m \"Añadido dataset al control con DVC\""
      ],
      "metadata": {
        "id": "Ts0YuSvSHDPb"
      },
      "execution_count": null,
      "outputs": []
    },
    {
      "cell_type": "markdown",
      "source": [
        "## Jenkins: Automatizar tareascon CI/CD\n",
        "\n",
        "Jenkins es una herramienta para automatizar tareas. Por ejemplo:\n",
        "\n",
        "- Probar el código automáticamente cuando haces un cambio\n",
        "- Volver a entrenar el modelo si hay nuevos datos\n",
        "- Desplegar tu app si pasa los tests\n",
        "\n",
        "Esto forma parte del ciclo **CI/CD**:\n",
        "\n",
        "- CI = Integración continua\n",
        "- CD = Despliegue continuo\n",
        "\n",
        "\n"
      ],
      "metadata": {
        "id": "KHLra3GPHPL8"
      }
    },
    {
      "cell_type": "markdown",
      "source": [
        "\n",
        "### ¿Cómo funciona Jenkins?\n",
        "\n",
        "- Tiene una interfaz web donde puedes ver tus \"jobs\"\n",
        "- Cada job puede hacer pasos como: instalar dependencias, ejecutar scripts, desplegar...\n",
        "- Puedes conectarlo con GitHub para que se active con cada push\n"
      ],
      "metadata": {
        "id": "6JoT-UNJHerA"
      }
    },
    {
      "cell_type": "markdown",
      "source": [
        "\n",
        "\n",
        "### Ejemplo de `Jenkinsfile`:\n",
        "\n",
        "Esto se pone en la raíz del repositorio y define lo que Jenkins debe hacer.\n",
        "\n",
        "```groovy\n",
        "pipeline {\n",
        "  agent any\n",
        "  stages {\n",
        "    stage('Instalar dependencias') {\n",
        "      steps {\n",
        "        sh 'pip install -r requirements.txt'\n",
        "      }\n",
        "    }\n",
        "    stage('Ejecutar tests') {\n",
        "      steps {\n",
        "        sh 'python -m unittest discover tests'\n",
        "      }\n",
        "    }\n",
        "    stage('Entrenar modelo') {\n",
        "      steps {\n",
        "        sh 'python train.py'\n",
        "      }\n",
        "    }\n",
        "  }\n",
        "}"
      ],
      "metadata": {
        "id": "UM_92FgbHiG0"
      }
    },
    {
      "cell_type": "markdown",
      "source": [
        "\n",
        "## Docker – Contenedores para empaquetar tu app\n",
        "\n",
        "Docker te permite empaquetar tu aplicación (con todo lo que necesita para funcionar: Python, librerías, código, etc.) en un **contenedor**.\n",
        "\n",
        "Ese contenedor funciona igual en cualquier sitio: tu ordenador, un servidor, la nube... lo que sea.\n",
        "\n"
      ],
      "metadata": {
        "id": "FMGsKWj0Hogq"
      }
    },
    {
      "cell_type": "markdown",
      "source": [
        "\n",
        "\n",
        "### ¿Para qué sirve Docker?\n",
        "\n",
        "- Evita el clásico “en mi máquina sí funciona”\n",
        "- Es la forma estándar de desplegar APIs en producción\n",
        "- Se usa mucho junto con FastAPI y Flask\n",
        "\n"
      ],
      "metadata": {
        "id": "HSIDFi92HthD"
      }
    },
    {
      "cell_type": "markdown",
      "source": [
        "### 📄 Ejemplo de `Dockerfile`\n",
        "\n",
        "```\n",
        "# 1. Imagen base con Python\n",
        "FROM python:3.9\n",
        "\n",
        "# 2. Directorio de trabajo\n",
        "WORKDIR /app\n",
        "\n",
        "# 3. Copiar archivos\n",
        "COPY . .\n",
        "\n",
        "# 4. Instalar dependencias\n",
        "RUN pip install -r requirements.txt\n",
        "\n",
        "# 5. Comando de arranque\n",
        "CMD [\"uvicorn\", \"main:app\", \"--host\", \"0.0.0.0\", \"--port\", \"80\"]\n",
        "```"
      ],
      "metadata": {
        "id": "4qiYJzHHHvgX"
      }
    },
    {
      "cell_type": "markdown",
      "source": [
        "Seguidamente, contruimos la imagen del contenedor y podríamos ejecutarla"
      ],
      "metadata": {
        "id": "0pHh0-NBH-pc"
      }
    },
    {
      "cell_type": "code",
      "source": [
        "# Construir imagen\n",
        "docker build -t mi_api_diabetes .\n",
        "\n",
        "# Ejecutar contenedor\n",
        "docker run -p 8000:80 mi_api_diabetes"
      ],
      "metadata": {
        "id": "dGyB247zH6lE"
      },
      "execution_count": null,
      "outputs": []
    },
    {
      "cell_type": "markdown",
      "source": [
        "## Resumen final\n",
        "\n",
        "### Conclusión\n",
        "\n",
        "Estas herramientas son el corazón del flujo de trabajo moderno en proyectos de machine learning:\n",
        "\n",
        "| Herramienta | ¿Para qué sirve? |\n",
        "|-------------|------------------|\n",
        "| **Git**     | Controlar versiones de código |\n",
        "| **DVC**     | Controlar versiones de datos y modelos |\n",
        "| **Jenkins** | Automatizar procesos (CI/CD) |\n",
        "| **Docker**  | Empaquetar tu app para que funcione en cualquier entorno |\n",
        "  \n",
        "--\n",
        "\n",
        "¿Qué puedo hacer a partir de aquí?\n",
        "\n",
        "- Conectar Jenkins con Docker para desplegar automáticamente la API\n",
        "- Usar DVC + GitHub + CI/CD para reentrenar el modelo cuando haya nuevos datos\n",
        "- Subir la imagen de Docker a un servicio en la nube (AWS, Render, etc.)\n",
        "- Versionar experimentos y métricas con DVC\n"
      ],
      "metadata": {
        "id": "8liQyXpxIFil"
      }
    }
  ]
}